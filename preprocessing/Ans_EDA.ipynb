{
 "cells": [
  {
   "cell_type": "code",
   "execution_count": 1,
   "metadata": {},
   "outputs": [],
   "source": [
    "import os\n",
    "import numpy as np\n",
    "import pandas as pd\n",
    "import seaborn as sns\n",
    "from data_clean import DataCleaning as clean\n",
    "\n",
    "# print all the outputs in a cell\n",
    "from IPython.core.interactiveshell import InteractiveShell\n",
    "InteractiveShell.ast_node_interactivity = \"all\"\n",
    "\n",
    "#Get the current working directory\n",
    "current_dir = os.getcwd()\n",
    "\n",
    "#Navigate up one level to the parent directory\n",
    "parent_dir = os.path.dirname(current_dir)\n",
    "\n",
    "#Read the CSV file using pandas\n",
    "train = pd.read_csv(parent_dir+\"\\\\datasets\\\\training.csv\")\n",
    "\n",
    "data_info = pd.read_excel(parent_dir+\"\\\\datasets\\\\31_資料欄位說明.xlsx\")"
   ]
  },
  {
   "cell_type": "code",
   "execution_count": null,
   "metadata": {},
   "outputs": [
    {
     "data": {
      "text/html": [
       "<div>\n",
       "<style scoped>\n",
       "    .dataframe tbody tr th:only-of-type {\n",
       "        vertical-align: middle;\n",
       "    }\n",
       "\n",
       "    .dataframe tbody tr th {\n",
       "        vertical-align: top;\n",
       "    }\n",
       "\n",
       "    .dataframe thead th {\n",
       "        text-align: right;\n",
       "    }\n",
       "</style>\n",
       "<table border=\"1\" class=\"dataframe\">\n",
       "  <thead>\n",
       "    <tr style=\"text-align: right;\">\n",
       "      <th></th>\n",
       "      <th>訓練資料集</th>\n",
       "      <th>訓練資料欄位名稱</th>\n",
       "      <th>訓練資料欄位中文說明</th>\n",
       "      <th>資料格式</th>\n",
       "      <th>備註</th>\n",
       "    </tr>\n",
       "  </thead>\n",
       "  <tbody>\n",
       "    <tr>\n",
       "      <th>0</th>\n",
       "      <td>cdtx0002_hist</td>\n",
       "      <td>txkey</td>\n",
       "      <td>交易序號</td>\n",
       "      <td>類別型</td>\n",
       "      <td>NaN</td>\n",
       "    </tr>\n",
       "    <tr>\n",
       "      <th>1</th>\n",
       "      <td>NaN</td>\n",
       "      <td>locdt</td>\n",
       "      <td>授權日期</td>\n",
       "      <td>數值型</td>\n",
       "      <td>切齊第一天為0,以此類推</td>\n",
       "    </tr>\n",
       "    <tr>\n",
       "      <th>2</th>\n",
       "      <td>NaN</td>\n",
       "      <td>loctm</td>\n",
       "      <td>授權時間</td>\n",
       "      <td>數值型</td>\n",
       "      <td>NaN</td>\n",
       "    </tr>\n",
       "    <tr>\n",
       "      <th>3</th>\n",
       "      <td>NaN</td>\n",
       "      <td>chid</td>\n",
       "      <td>顧客ID</td>\n",
       "      <td>類別型</td>\n",
       "      <td>NaN</td>\n",
       "    </tr>\n",
       "    <tr>\n",
       "      <th>4</th>\n",
       "      <td>NaN</td>\n",
       "      <td>cano</td>\n",
       "      <td>交易卡號</td>\n",
       "      <td>類別型</td>\n",
       "      <td>NaN</td>\n",
       "    </tr>\n",
       "    <tr>\n",
       "      <th>5</th>\n",
       "      <td>NaN</td>\n",
       "      <td>contp</td>\n",
       "      <td>交易類別</td>\n",
       "      <td>類別型</td>\n",
       "      <td>NaN</td>\n",
       "    </tr>\n",
       "    <tr>\n",
       "      <th>6</th>\n",
       "      <td>NaN</td>\n",
       "      <td>etymd</td>\n",
       "      <td>交易型態</td>\n",
       "      <td>類別型</td>\n",
       "      <td>NaN</td>\n",
       "    </tr>\n",
       "    <tr>\n",
       "      <th>7</th>\n",
       "      <td>NaN</td>\n",
       "      <td>mchno</td>\n",
       "      <td>特店代號</td>\n",
       "      <td>類別型</td>\n",
       "      <td>NaN</td>\n",
       "    </tr>\n",
       "    <tr>\n",
       "      <th>8</th>\n",
       "      <td>NaN</td>\n",
       "      <td>acqic</td>\n",
       "      <td>收單行代碼</td>\n",
       "      <td>類別型</td>\n",
       "      <td>NaN</td>\n",
       "    </tr>\n",
       "    <tr>\n",
       "      <th>9</th>\n",
       "      <td>NaN</td>\n",
       "      <td>mcc</td>\n",
       "      <td>mcc_code</td>\n",
       "      <td>類別型</td>\n",
       "      <td>NaN</td>\n",
       "    </tr>\n",
       "    <tr>\n",
       "      <th>10</th>\n",
       "      <td>NaN</td>\n",
       "      <td>conam</td>\n",
       "      <td>交易金額-台幣</td>\n",
       "      <td>數值型</td>\n",
       "      <td>NaN</td>\n",
       "    </tr>\n",
       "    <tr>\n",
       "      <th>11</th>\n",
       "      <td>NaN</td>\n",
       "      <td>ecfg</td>\n",
       "      <td>網路交易註記</td>\n",
       "      <td>類別型</td>\n",
       "      <td>NaN</td>\n",
       "    </tr>\n",
       "    <tr>\n",
       "      <th>12</th>\n",
       "      <td>NaN</td>\n",
       "      <td>insfg</td>\n",
       "      <td>是否分期交易</td>\n",
       "      <td>類別型</td>\n",
       "      <td>NaN</td>\n",
       "    </tr>\n",
       "    <tr>\n",
       "      <th>13</th>\n",
       "      <td>NaN</td>\n",
       "      <td>iterm</td>\n",
       "      <td>分期期數</td>\n",
       "      <td>數值型</td>\n",
       "      <td>NaN</td>\n",
       "    </tr>\n",
       "    <tr>\n",
       "      <th>14</th>\n",
       "      <td>NaN</td>\n",
       "      <td>bnsfg</td>\n",
       "      <td>是否紅利交易</td>\n",
       "      <td>類別型</td>\n",
       "      <td>NaN</td>\n",
       "    </tr>\n",
       "    <tr>\n",
       "      <th>15</th>\n",
       "      <td>NaN</td>\n",
       "      <td>flam1</td>\n",
       "      <td>實付金額</td>\n",
       "      <td>數值型</td>\n",
       "      <td>NaN</td>\n",
       "    </tr>\n",
       "    <tr>\n",
       "      <th>16</th>\n",
       "      <td>NaN</td>\n",
       "      <td>stocn</td>\n",
       "      <td>消費地國別</td>\n",
       "      <td>類別型</td>\n",
       "      <td>台灣=0</td>\n",
       "    </tr>\n",
       "    <tr>\n",
       "      <th>17</th>\n",
       "      <td>NaN</td>\n",
       "      <td>scity</td>\n",
       "      <td>消費城市</td>\n",
       "      <td>類別型</td>\n",
       "      <td>NaN</td>\n",
       "    </tr>\n",
       "    <tr>\n",
       "      <th>18</th>\n",
       "      <td>NaN</td>\n",
       "      <td>stscd</td>\n",
       "      <td>狀態碼</td>\n",
       "      <td>類別型</td>\n",
       "      <td>NaN</td>\n",
       "    </tr>\n",
       "    <tr>\n",
       "      <th>19</th>\n",
       "      <td>NaN</td>\n",
       "      <td>ovrlt</td>\n",
       "      <td>超額註記碼</td>\n",
       "      <td>類別型</td>\n",
       "      <td>NaN</td>\n",
       "    </tr>\n",
       "    <tr>\n",
       "      <th>20</th>\n",
       "      <td>NaN</td>\n",
       "      <td>flbmk</td>\n",
       "      <td>Fallback註記</td>\n",
       "      <td>類別型</td>\n",
       "      <td>NaN</td>\n",
       "    </tr>\n",
       "    <tr>\n",
       "      <th>21</th>\n",
       "      <td>NaN</td>\n",
       "      <td>hcefg</td>\n",
       "      <td>支付型態</td>\n",
       "      <td>類別型</td>\n",
       "      <td>NaN</td>\n",
       "    </tr>\n",
       "    <tr>\n",
       "      <th>22</th>\n",
       "      <td>NaN</td>\n",
       "      <td>csmcu</td>\n",
       "      <td>消費地幣別</td>\n",
       "      <td>類別型</td>\n",
       "      <td>NaN</td>\n",
       "    </tr>\n",
       "    <tr>\n",
       "      <th>23</th>\n",
       "      <td>NaN</td>\n",
       "      <td>csmam</td>\n",
       "      <td>消費地金額</td>\n",
       "      <td>數值型</td>\n",
       "      <td>NaN</td>\n",
       "    </tr>\n",
       "    <tr>\n",
       "      <th>24</th>\n",
       "      <td>NaN</td>\n",
       "      <td>flg_3dsmk</td>\n",
       "      <td>3D交易註記</td>\n",
       "      <td>類別型</td>\n",
       "      <td>NaN</td>\n",
       "    </tr>\n",
       "    <tr>\n",
       "      <th>25</th>\n",
       "      <td>NaN</td>\n",
       "      <td>label</td>\n",
       "      <td>盜刷與否</td>\n",
       "      <td>類別型</td>\n",
       "      <td>NaN</td>\n",
       "    </tr>\n",
       "    <tr>\n",
       "      <th>26</th>\n",
       "      <td>NaN</td>\n",
       "      <td>NaN</td>\n",
       "      <td>NaN</td>\n",
       "      <td>NaN</td>\n",
       "      <td>NaN</td>\n",
       "    </tr>\n",
       "    <tr>\n",
       "      <th>27</th>\n",
       "      <td>上傳檔案</td>\n",
       "      <td>資料欄位名稱</td>\n",
       "      <td>資料欄位中文說明</td>\n",
       "      <td>資料格式</td>\n",
       "      <td>備註</td>\n",
       "    </tr>\n",
       "    <tr>\n",
       "      <th>28</th>\n",
       "      <td>NaN</td>\n",
       "      <td>txkey</td>\n",
       "      <td>交易序號</td>\n",
       "      <td>類別型</td>\n",
       "      <td>提供的檔案中，第0~600,182筆為public set，剩下的為private set</td>\n",
       "    </tr>\n",
       "    <tr>\n",
       "      <th>29</th>\n",
       "      <td>NaN</td>\n",
       "      <td>pred</td>\n",
       "      <td>預測值</td>\n",
       "      <td>類別型</td>\n",
       "      <td>NaN</td>\n",
       "    </tr>\n",
       "  </tbody>\n",
       "</table>\n",
       "</div>"
      ],
      "text/plain": [
       "            訓練資料集   訓練資料欄位名稱  訓練資料欄位中文說明  資料格式  \\\n",
       "0   cdtx0002_hist      txkey        交易序號   類別型   \n",
       "1             NaN      locdt        授權日期   數值型   \n",
       "2             NaN      loctm        授權時間   數值型   \n",
       "3             NaN       chid        顧客ID   類別型   \n",
       "4             NaN       cano        交易卡號   類別型   \n",
       "5             NaN      contp        交易類別   類別型   \n",
       "6             NaN      etymd        交易型態   類別型   \n",
       "7             NaN      mchno        特店代號   類別型   \n",
       "8             NaN      acqic       收單行代碼   類別型   \n",
       "9             NaN        mcc    mcc_code   類別型   \n",
       "10            NaN      conam     交易金額-台幣   數值型   \n",
       "11            NaN       ecfg      網路交易註記   類別型   \n",
       "12            NaN      insfg      是否分期交易   類別型   \n",
       "13            NaN      iterm        分期期數   數值型   \n",
       "14            NaN      bnsfg      是否紅利交易   類別型   \n",
       "15            NaN      flam1        實付金額   數值型   \n",
       "16            NaN      stocn       消費地國別   類別型   \n",
       "17            NaN      scity        消費城市   類別型   \n",
       "18            NaN      stscd         狀態碼   類別型   \n",
       "19            NaN      ovrlt       超額註記碼   類別型   \n",
       "20            NaN      flbmk  Fallback註記   類別型   \n",
       "21            NaN      hcefg        支付型態   類別型   \n",
       "22            NaN      csmcu       消費地幣別   類別型   \n",
       "23            NaN      csmam       消費地金額   數值型   \n",
       "24            NaN  flg_3dsmk      3D交易註記   類別型   \n",
       "25            NaN      label        盜刷與否   類別型   \n",
       "26            NaN        NaN         NaN   NaN   \n",
       "27           上傳檔案     資料欄位名稱    資料欄位中文說明  資料格式   \n",
       "28            NaN      txkey        交易序號   類別型   \n",
       "29            NaN       pred         預測值   類別型   \n",
       "\n",
       "                                               備註  \n",
       "0                                             NaN  \n",
       "1                                    切齊第一天為0,以此類推  \n",
       "2                                             NaN  \n",
       "3                                             NaN  \n",
       "4                                             NaN  \n",
       "5                                             NaN  \n",
       "6                                             NaN  \n",
       "7                                             NaN  \n",
       "8                                             NaN  \n",
       "9                                             NaN  \n",
       "10                                            NaN  \n",
       "11                                            NaN  \n",
       "12                                            NaN  \n",
       "13                                            NaN  \n",
       "14                                            NaN  \n",
       "15                                            NaN  \n",
       "16                                           台灣=0  \n",
       "17                                            NaN  \n",
       "18                                            NaN  \n",
       "19                                            NaN  \n",
       "20                                            NaN  \n",
       "21                                            NaN  \n",
       "22                                            NaN  \n",
       "23                                            NaN  \n",
       "24                                            NaN  \n",
       "25                                            NaN  \n",
       "26                                            NaN  \n",
       "27                                             備註  \n",
       "28  提供的檔案中，第0~600,182筆為public set，剩下的為private set  \n",
       "29                                            NaN  "
      ]
     },
     "execution_count": 7,
     "metadata": {},
     "output_type": "execute_result"
    }
   ],
   "source": [
    "data_info"
   ]
  },
  {
   "cell_type": "code",
   "execution_count": null,
   "metadata": {},
   "outputs": [
    {
     "data": {
      "text/plain": [
       "(8688526, 26)"
      ]
     },
     "execution_count": 8,
     "metadata": {},
     "output_type": "execute_result"
    }
   ],
   "source": [
    "train.shape"
   ]
  },
  {
   "cell_type": "code",
   "execution_count": null,
   "metadata": {},
   "outputs": [
    {
     "data": {
      "text/html": [
       "<div>\n",
       "<style scoped>\n",
       "    .dataframe tbody tr th:only-of-type {\n",
       "        vertical-align: middle;\n",
       "    }\n",
       "\n",
       "    .dataframe tbody tr th {\n",
       "        vertical-align: top;\n",
       "    }\n",
       "\n",
       "    .dataframe thead th {\n",
       "        text-align: right;\n",
       "    }\n",
       "</style>\n",
       "<table border=\"1\" class=\"dataframe\">\n",
       "  <thead>\n",
       "    <tr style=\"text-align: right;\">\n",
       "      <th></th>\n",
       "      <th>txkey</th>\n",
       "      <th>locdt</th>\n",
       "      <th>loctm</th>\n",
       "      <th>chid</th>\n",
       "      <th>cano</th>\n",
       "      <th>contp</th>\n",
       "      <th>etymd</th>\n",
       "      <th>mchno</th>\n",
       "      <th>acqic</th>\n",
       "      <th>mcc</th>\n",
       "      <th>...</th>\n",
       "      <th>stocn</th>\n",
       "      <th>scity</th>\n",
       "      <th>stscd</th>\n",
       "      <th>ovrlt</th>\n",
       "      <th>flbmk</th>\n",
       "      <th>hcefg</th>\n",
       "      <th>csmcu</th>\n",
       "      <th>csmam</th>\n",
       "      <th>flg_3dsmk</th>\n",
       "      <th>label</th>\n",
       "    </tr>\n",
       "  </thead>\n",
       "  <tbody>\n",
       "    <tr>\n",
       "      <th>0</th>\n",
       "      <td>1c09727c939eb69ead2a4ce4072b8aa18992a64f01fcb4...</td>\n",
       "      <td>46</td>\n",
       "      <td>101812</td>\n",
       "      <td>84d2dc85d4da6a7fa284a11a4290d7e9a969163dcb4d82...</td>\n",
       "      <td>3dd5bf1e29e5e0baa789ce692fe5dbd34ff05173acf351...</td>\n",
       "      <td>5</td>\n",
       "      <td>1.0</td>\n",
       "      <td>cad752c5d05d2bdcc30d64fa4e68404c2d1f7be5d14d52...</td>\n",
       "      <td>8f6b3ff512a001e0d1988c6cd888ef8c74112fb71117e5...</td>\n",
       "      <td>375.0</td>\n",
       "      <td>...</td>\n",
       "      <td>0.0</td>\n",
       "      <td>15759.0</td>\n",
       "      <td>NaN</td>\n",
       "      <td>0</td>\n",
       "      <td>0</td>\n",
       "      <td>6.0</td>\n",
       "      <td>70.0</td>\n",
       "      <td>1529</td>\n",
       "      <td>0</td>\n",
       "      <td>0</td>\n",
       "    </tr>\n",
       "    <tr>\n",
       "      <th>1</th>\n",
       "      <td>2043f245a93bc6328dac964d6dbc89f13a0346062c194d...</td>\n",
       "      <td>17</td>\n",
       "      <td>85509</td>\n",
       "      <td>9a8cf5d0afd729cb7876f6b3172152c7c9c6fabd40515c...</td>\n",
       "      <td>8cb13f9b38c7bbc02d210e580dcbbcbb6c95bf18bc3320...</td>\n",
       "      <td>5</td>\n",
       "      <td>8.0</td>\n",
       "      <td>4356c6642ef6e837543b577c7ee3ffa92b4b8fcfb57254...</td>\n",
       "      <td>379166ff4a62dac343b4b734188aa618716cc496e48b65...</td>\n",
       "      <td>282.0</td>\n",
       "      <td>...</td>\n",
       "      <td>0.0</td>\n",
       "      <td>15759.0</td>\n",
       "      <td>NaN</td>\n",
       "      <td>0</td>\n",
       "      <td>0</td>\n",
       "      <td>8.0</td>\n",
       "      <td>70.0</td>\n",
       "      <td>101</td>\n",
       "      <td>0</td>\n",
       "      <td>0</td>\n",
       "    </tr>\n",
       "    <tr>\n",
       "      <th>2</th>\n",
       "      <td>e4853710290a8409279f3279f8032ae670824bd19aa173...</td>\n",
       "      <td>44</td>\n",
       "      <td>212641</td>\n",
       "      <td>dcc1389a5765d6f53152cf85970fbe78a83fd3d1c299b0...</td>\n",
       "      <td>1ec32868e5e1d5ff8df56737c2a91326cbfe3364382de6...</td>\n",
       "      <td>5</td>\n",
       "      <td>4.0</td>\n",
       "      <td>5b7eff061f8896aac4339ea35c25f8bb956a43bc486460...</td>\n",
       "      <td>8f6b3ff512a001e0d1988c6cd888ef8c74112fb71117e5...</td>\n",
       "      <td>288.0</td>\n",
       "      <td>...</td>\n",
       "      <td>0.0</td>\n",
       "      <td>15759.0</td>\n",
       "      <td>NaN</td>\n",
       "      <td>0</td>\n",
       "      <td>0</td>\n",
       "      <td>6.0</td>\n",
       "      <td>70.0</td>\n",
       "      <td>116</td>\n",
       "      <td>0</td>\n",
       "      <td>0</td>\n",
       "    </tr>\n",
       "    <tr>\n",
       "      <th>3</th>\n",
       "      <td>74d811b1dbc28b22b73ba2c79bb6033791d913b6d27a25...</td>\n",
       "      <td>42</td>\n",
       "      <td>102702</td>\n",
       "      <td>577f2329d1eccd59ba0abaf6113bb78dcd575badcbc57f...</td>\n",
       "      <td>4359dca1ac6a835eceb2bc0dd6b0b710f030c3499126e9...</td>\n",
       "      <td>5</td>\n",
       "      <td>1.0</td>\n",
       "      <td>cad752c5d05d2bdcc30d64fa4e68404c2d1f7be5d14d52...</td>\n",
       "      <td>36684976be1f529e6e2a32c9edab4cf8e364b2b916ae2c...</td>\n",
       "      <td>375.0</td>\n",
       "      <td>...</td>\n",
       "      <td>0.0</td>\n",
       "      <td>15759.0</td>\n",
       "      <td>NaN</td>\n",
       "      <td>0</td>\n",
       "      <td>0</td>\n",
       "      <td>6.0</td>\n",
       "      <td>70.0</td>\n",
       "      <td>1683</td>\n",
       "      <td>0</td>\n",
       "      <td>0</td>\n",
       "    </tr>\n",
       "    <tr>\n",
       "      <th>4</th>\n",
       "      <td>68ca182343969d429d79a34e532bc1ca7a3cc032c2ad81...</td>\n",
       "      <td>31</td>\n",
       "      <td>185737</td>\n",
       "      <td>fff6b4126c40620b1fbb11d4de02cd67b9e95071caa40b...</td>\n",
       "      <td>a3837f2905383f235a72679482c5f02e40f2a8ca29750d...</td>\n",
       "      <td>5</td>\n",
       "      <td>5.0</td>\n",
       "      <td>50d5b02ce3fc88723438c2a29cfdb04be4a1a11280ddb6...</td>\n",
       "      <td>379166ff4a62dac343b4b734188aa618716cc496e48b65...</td>\n",
       "      <td>406.0</td>\n",
       "      <td>...</td>\n",
       "      <td>0.0</td>\n",
       "      <td>15759.0</td>\n",
       "      <td>NaN</td>\n",
       "      <td>0</td>\n",
       "      <td>0</td>\n",
       "      <td>6.0</td>\n",
       "      <td>70.0</td>\n",
       "      <td>14</td>\n",
       "      <td>0</td>\n",
       "      <td>0</td>\n",
       "    </tr>\n",
       "  </tbody>\n",
       "</table>\n",
       "<p>5 rows × 26 columns</p>\n",
       "</div>"
      ],
      "text/plain": [
       "                                               txkey  locdt   loctm  \\\n",
       "0  1c09727c939eb69ead2a4ce4072b8aa18992a64f01fcb4...     46  101812   \n",
       "1  2043f245a93bc6328dac964d6dbc89f13a0346062c194d...     17   85509   \n",
       "2  e4853710290a8409279f3279f8032ae670824bd19aa173...     44  212641   \n",
       "3  74d811b1dbc28b22b73ba2c79bb6033791d913b6d27a25...     42  102702   \n",
       "4  68ca182343969d429d79a34e532bc1ca7a3cc032c2ad81...     31  185737   \n",
       "\n",
       "                                                chid  \\\n",
       "0  84d2dc85d4da6a7fa284a11a4290d7e9a969163dcb4d82...   \n",
       "1  9a8cf5d0afd729cb7876f6b3172152c7c9c6fabd40515c...   \n",
       "2  dcc1389a5765d6f53152cf85970fbe78a83fd3d1c299b0...   \n",
       "3  577f2329d1eccd59ba0abaf6113bb78dcd575badcbc57f...   \n",
       "4  fff6b4126c40620b1fbb11d4de02cd67b9e95071caa40b...   \n",
       "\n",
       "                                                cano  contp  etymd  \\\n",
       "0  3dd5bf1e29e5e0baa789ce692fe5dbd34ff05173acf351...      5    1.0   \n",
       "1  8cb13f9b38c7bbc02d210e580dcbbcbb6c95bf18bc3320...      5    8.0   \n",
       "2  1ec32868e5e1d5ff8df56737c2a91326cbfe3364382de6...      5    4.0   \n",
       "3  4359dca1ac6a835eceb2bc0dd6b0b710f030c3499126e9...      5    1.0   \n",
       "4  a3837f2905383f235a72679482c5f02e40f2a8ca29750d...      5    5.0   \n",
       "\n",
       "                                               mchno  \\\n",
       "0  cad752c5d05d2bdcc30d64fa4e68404c2d1f7be5d14d52...   \n",
       "1  4356c6642ef6e837543b577c7ee3ffa92b4b8fcfb57254...   \n",
       "2  5b7eff061f8896aac4339ea35c25f8bb956a43bc486460...   \n",
       "3  cad752c5d05d2bdcc30d64fa4e68404c2d1f7be5d14d52...   \n",
       "4  50d5b02ce3fc88723438c2a29cfdb04be4a1a11280ddb6...   \n",
       "\n",
       "                                               acqic    mcc  ...  stocn  \\\n",
       "0  8f6b3ff512a001e0d1988c6cd888ef8c74112fb71117e5...  375.0  ...    0.0   \n",
       "1  379166ff4a62dac343b4b734188aa618716cc496e48b65...  282.0  ...    0.0   \n",
       "2  8f6b3ff512a001e0d1988c6cd888ef8c74112fb71117e5...  288.0  ...    0.0   \n",
       "3  36684976be1f529e6e2a32c9edab4cf8e364b2b916ae2c...  375.0  ...    0.0   \n",
       "4  379166ff4a62dac343b4b734188aa618716cc496e48b65...  406.0  ...    0.0   \n",
       "\n",
       "     scity  stscd  ovrlt  flbmk  hcefg  csmcu  csmam  flg_3dsmk  label  \n",
       "0  15759.0    NaN      0      0    6.0   70.0   1529          0      0  \n",
       "1  15759.0    NaN      0      0    8.0   70.0    101          0      0  \n",
       "2  15759.0    NaN      0      0    6.0   70.0    116          0      0  \n",
       "3  15759.0    NaN      0      0    6.0   70.0   1683          0      0  \n",
       "4  15759.0    NaN      0      0    6.0   70.0     14          0      0  \n",
       "\n",
       "[5 rows x 26 columns]"
      ]
     },
     "execution_count": 5,
     "metadata": {},
     "output_type": "execute_result"
    }
   ],
   "source": [
    "train.head()"
   ]
  },
  {
   "cell_type": "code",
   "execution_count": 32,
   "metadata": {},
   "outputs": [
    {
     "data": {
      "text/plain": [
       "txkey         object\n",
       "locdt          int64\n",
       "loctm          int64\n",
       "chid          object\n",
       "cano          object\n",
       "contp          int64\n",
       "etymd        float64\n",
       "mchno         object\n",
       "acqic         object\n",
       "mcc          float64\n",
       "conam        float64\n",
       "ecfg           int64\n",
       "insfg          int64\n",
       "iterm        float64\n",
       "bnsfg          int64\n",
       "flam1          int64\n",
       "stocn        float64\n",
       "scity        float64\n",
       "stscd        float64\n",
       "ovrlt          int64\n",
       "flbmk          int64\n",
       "hcefg        float64\n",
       "csmcu        float64\n",
       "csmam          int64\n",
       "flg_3dsmk      int64\n",
       "label          int64\n",
       "dtype: object"
      ]
     },
     "execution_count": 32,
     "metadata": {},
     "output_type": "execute_result"
    }
   ],
   "source": [
    "train.dtypes"
   ]
  },
  {
   "cell_type": "markdown",
   "metadata": {},
   "source": [
    "# Missing Value"
   ]
  },
  {
   "cell_type": "code",
   "execution_count": 4,
   "metadata": {},
   "outputs": [
    {
     "data": {
      "text/plain": [
       "txkey             0\n",
       "locdt             0\n",
       "loctm             0\n",
       "chid              0\n",
       "cano              0\n",
       "contp             0\n",
       "etymd        203455\n",
       "mchno             0\n",
       "acqic             0\n",
       "mcc               0\n",
       "conam             0\n",
       "ecfg              0\n",
       "insfg             0\n",
       "iterm             0\n",
       "bnsfg             0\n",
       "flam1             0\n",
       "stocn           600\n",
       "scity        266066\n",
       "stscd             0\n",
       "ovrlt             0\n",
       "flbmk             0\n",
       "hcefg             0\n",
       "csmcu             0\n",
       "csmam             0\n",
       "flg_3dsmk         0\n",
       "label             0\n",
       "dtype: int64"
      ]
     },
     "execution_count": 4,
     "metadata": {},
     "output_type": "execute_result"
    }
   ],
   "source": [
    "train.isna().sum()"
   ]
  },
  {
   "cell_type": "code",
   "execution_count": null,
   "metadata": {},
   "outputs": [
    {
     "data": {
      "text/plain": [
       "etymd\n",
       "5.0     2463603\n",
       "4.0     2446956\n",
       "8.0     1980614\n",
       "1.0     1283373\n",
       "3.0      209619\n",
       "nan      203455\n",
       "0.0       85308\n",
       "9.0       14873\n",
       "2.0         577\n",
       "10.0         85\n",
       "7.0          63\n",
       "Name: count, dtype: int64"
      ]
     },
     "execution_count": 10,
     "metadata": {},
     "output_type": "execute_result"
    }
   ],
   "source": [
    "train.etymd = list(map(str, train.etymd))\n",
    "train.etymd.value_counts()"
   ]
  },
  {
   "cell_type": "code",
   "execution_count": null,
   "metadata": {},
   "outputs": [
    {
     "data": {
      "text/plain": [
       "mcc\n",
       "320.0    1262752\n",
       "276.0    1141173\n",
       "282.0     660236\n",
       "272.0     517042\n",
       "275.0     379472\n",
       "          ...   \n",
       "69.0           1\n",
       "37.0           1\n",
       "30.0           1\n",
       "74.0           1\n",
       "109.0          1\n",
       "Name: count, Length: 459, dtype: int64"
      ]
     },
     "execution_count": 11,
     "metadata": {},
     "output_type": "execute_result"
    }
   ],
   "source": [
    "train.mcc.value_counts()"
   ]
  },
  {
   "cell_type": "code",
   "execution_count": null,
   "metadata": {},
   "outputs": [
    {
     "data": {
      "text/plain": [
       "stocn\n",
       "0.0      7827990\n",
       "126.0     292409\n",
       "54.0      207011\n",
       "42.0      114421\n",
       "113.0      89760\n",
       "          ...   \n",
       "1.0            1\n",
       "125.0          1\n",
       "23.0           1\n",
       "19.0           1\n",
       "18.0           1\n",
       "Name: count, Length: 122, dtype: int64"
      ]
     },
     "execution_count": 12,
     "metadata": {},
     "output_type": "execute_result"
    },
    {
     "data": {
      "text/plain": [
       "600"
      ]
     },
     "execution_count": 12,
     "metadata": {},
     "output_type": "execute_result"
    }
   ],
   "source": [
    "# 有城市的值後 掛回國家\n",
    "\n",
    "train.stocn.value_counts()\n",
    "train.stocn.isna().sum()"
   ]
  },
  {
   "cell_type": "code",
   "execution_count": null,
   "metadata": {},
   "outputs": [
    {
     "data": {
      "text/plain": [
       "Index([61.0, 31.0, 45.0, 12.0, 57.0,  3.0, 36.0, 55.0,  1.0, 67.0, 47.0, 76.0,\n",
       "       33.0, 23.0, 52.0, 27.0, 10.0, 13.0, 37.0, 62.0],\n",
       "      dtype='float64', name='csmcu')"
      ]
     },
     "execution_count": 32,
     "metadata": {},
     "output_type": "execute_result"
    },
    {
     "data": {
      "text/plain": [
       "82"
      ]
     },
     "execution_count": 32,
     "metadata": {},
     "output_type": "execute_result"
    }
   ],
   "source": [
    "# In one country, the small proportion of the csmcu\n",
    "csmcu_stocn_126_s20 = train[train.stocn == 126.0][\"csmcu\"].value_counts().nsmallest(20).index\n",
    "csmcu_stocn_126_s20\n",
    "train[(train.stocn == 126.0) & (train.csmcu.isin(csmcu_stocn_126_s20))][\"label\"].sum()"
   ]
  },
  {
   "cell_type": "code",
   "execution_count": null,
   "metadata": {},
   "outputs": [
    {
     "data": {
      "text/plain": [
       "acqic\n",
       "814437ad6838efec5e9ebd8600d37a984f221ca2f7a83fb66ccd80505e585745    114349\n",
       "8ccfdd7858e90e854599488e0f7453996a6268788bf36983ec81e10bc147f826     44449\n",
       "9b2d5b4678781e53038e91ea5324530a03f27dc1d0e5f6c9bc9d493a23be9de0     37101\n",
       "9b44e95ff6c0762267771de0b407efdc3f85b210c6dfddcbeb04caed7256fe43     10554\n",
       "16e2a0ad7a09b6a46a5711b9f79965689383832e4e02dc270da0e35810306270      9056\n",
       "                                                                     ...  \n",
       "1503c6e8fb1339884696cbd48fab612b870a2c0eab963b093bc1b95231fa7ffa         1\n",
       "9e0d763ebd1ed3e666b6fac011f9a46c5c122b0f8671924f4f04d9dc5021758d         1\n",
       "7b9b7a897b00a083ef6b72b1e92bc0469ff4c13971fa27bba3473d4bc449e321         1\n",
       "b7dadf235d7beb5d4eb30d780e0b6da27c6c64c8def29a29c20d4940727889d8         1\n",
       "d0596273fe357a0af39fc6beaefd9cb1317b40ca24e54355ff7a35dd318e92fa         1\n",
       "Name: count, Length: 5911, dtype: int64"
      ]
     },
     "execution_count": 12,
     "metadata": {},
     "output_type": "execute_result"
    }
   ],
   "source": [
    "train[train.scity.isna()][\"acqic\"].value_counts()"
   ]
  },
  {
   "cell_type": "code",
   "execution_count": 10,
   "metadata": {},
   "outputs": [
    {
     "data": {
      "text/plain": [
       "scity\n",
       "15759.0    4646717\n",
       "16115.0     505054\n",
       "15760.0     244079\n",
       "13451.0     191376\n",
       "11380.0     183163\n",
       "            ...   \n",
       "15341.0          1\n",
       "4031.0           1\n",
       "13850.0          1\n",
       "14759.0          1\n",
       "15112.0          1\n",
       "Name: count, Length: 12003, dtype: int64"
      ]
     },
     "execution_count": 10,
     "metadata": {},
     "output_type": "execute_result"
    },
    {
     "data": {
      "text/plain": [
       "266066"
      ]
     },
     "execution_count": 10,
     "metadata": {},
     "output_type": "execute_result"
    },
    {
     "data": {
      "text/plain": [
       "2.0"
      ]
     },
     "execution_count": 10,
     "metadata": {},
     "output_type": "execute_result"
    }
   ],
   "source": [
    "# X個 >100000 把NAN 掛用logistic 掛回去這 X個城市\n",
    "# nan city label 的比例\n",
    "\n",
    "# 相同比例的話 可能需要flag 去determine\n",
    "train.scity.value_counts()\n",
    "train.scity.isna().sum()\n"
   ]
  },
  {
   "cell_type": "code",
   "execution_count": null,
   "metadata": {},
   "outputs": [
    {
     "data": {
      "text/plain": [
       "stscd\n",
       "nan    8665195\n",
       "1.0      22385\n",
       "0.0        799\n",
       "2.0        132\n",
       "4.0         13\n",
       "3.0          2\n",
       "Name: count, dtype: int64"
      ]
     },
     "execution_count": 29,
     "metadata": {},
     "output_type": "execute_result"
    }
   ],
   "source": [
    "# NAN 掛-1 代表新類型\n",
    "\n",
    "train.stscd = list(map(str, train.stscd))\n",
    "train.stscd.value_counts()"
   ]
  },
  {
   "cell_type": "code",
   "execution_count": null,
   "metadata": {},
   "outputs": [
    {
     "data": {
      "text/plain": [
       "hcefg\n",
       "6.0     7321872\n",
       "0.0      758808\n",
       "nan      286656\n",
       "1.0      184851\n",
       "3.0       51551\n",
       "8.0       35638\n",
       "9.0       35320\n",
       "7.0       10696\n",
       "5.0        2479\n",
       "4.0         490\n",
       "2.0         159\n",
       "10.0          6\n",
       "Name: count, dtype: int64"
      ]
     },
     "execution_count": 28,
     "metadata": {},
     "output_type": "execute_result"
    }
   ],
   "source": [
    "# 收單行代碼去取星的變數\n",
    "train.hcefg = list(map(str, train.hcefg))\n",
    "train.hcefg.value_counts()"
   ]
  },
  {
   "cell_type": "code",
   "execution_count": null,
   "metadata": {},
   "outputs": [
    {
     "data": {
      "text/plain": [
       "csmcu\n",
       "70.0    7947443\n",
       "68.0     122569\n",
       "81.0      27575\n",
       "29.0      27074\n",
       "76.0      12450\n",
       "         ...   \n",
       "80.0          2\n",
       "5.0           1\n",
       "21.0          1\n",
       "83.0          1\n",
       "4.0           1\n",
       "Name: count, Length: 79, dtype: int64"
      ]
     },
     "execution_count": 30,
     "metadata": {},
     "output_type": "execute_result"
    }
   ],
   "source": [
    "# 收單行代碼去取星的變數\n",
    "train.csmcu.value_counts()"
   ]
  },
  {
   "cell_type": "code",
   "execution_count": null,
   "metadata": {},
   "outputs": [
    {
     "data": {
      "text/plain": [
       "acqic\n",
       "9b2d5b4678781e53038e91ea5324530a03f27dc1d0e5f6c9bc9d493a23be9de0    296411\n",
       "814437ad6838efec5e9ebd8600d37a984f221ca2f7a83fb66ccd80505e585745    114349\n",
       "8ccfdd7858e90e854599488e0f7453996a6268788bf36983ec81e10bc147f826     44449\n",
       "cf12b86a163b0dc6b9d671540aa04b0f533248c91add689f3560c9cc634273fb      7991\n",
       "ae9f97300a28e73159082ce0920157771fea7b7e59b8072d1442cc84b7fa5efd      1254\n",
       "                                                                     ...  \n",
       "385d0d3172400e15ea88d44848b1a62af635c8127e6025bc47811629f46c2a25         1\n",
       "dd8f0c11a32a795c535cf2f8a713d6e43b989e6a88b3600c077fc6ee3084053c         1\n",
       "e35d1e3d59da9d3e885d6fabc209009676c486d783be1527e13addd757830ffd         1\n",
       "be9c92a52d04850f205537431ebd684d4dbd9d05acf9c36ecb1fc84a12b7a9c2         1\n",
       "d0596273fe357a0af39fc6beaefd9cb1317b40ca24e54355ff7a35dd318e92fa         1\n",
       "Name: count, Length: 5874, dtype: int64"
      ]
     },
     "execution_count": 36,
     "metadata": {},
     "output_type": "execute_result"
    }
   ],
   "source": [
    "train[train.csmcu.isna()][\"acqic\"].value_counts()"
   ]
  },
  {
   "cell_type": "code",
   "execution_count": 2,
   "metadata": {},
   "outputs": [],
   "source": [
    "from data_clean import DataCleaning as clean\n",
    "train1 = train.copy()\n",
    "\n",
    "clean.fill_csmcu_or_hcefg_acqic(train, cs_hc = \"hcefg\")\n",
    "clean.fill_csmcu_or_hcefg_acqic(train, cs_hc = \"csmcu\")\n",
    "clean.fill_stscd_neg1(train)\n",
    "clean.fill_mcc_neg1(train)\n",
    "\n",
    "clean.fill_scity_etymd_byrf(train, data_info, \"etymd\", 0.05, 1.0)\n",
    "clean.fill_scity_etymd_byrf(train, data_info, \"scity\", 0.05, 0.9)"
   ]
  },
  {
   "cell_type": "code",
   "execution_count": 3,
   "metadata": {},
   "outputs": [],
   "source": [
    "clean.fill_scity_etymd_byrf(train, data_info, \"etymd\", 0.001, 1.0)"
   ]
  },
  {
   "cell_type": "code",
   "execution_count": 4,
   "metadata": {},
   "outputs": [
    {
     "data": {
      "text/plain": [
       "etymd\n",
       "4.0     2515177\n",
       "5.0     2463603\n",
       "8.0     1980614\n",
       "1.0     1300458\n",
       "3.0      319248\n",
       "0.0       93828\n",
       "9.0       14873\n",
       "2.0         577\n",
       "10.0         85\n",
       "7.0          63\n",
       "Name: count, dtype: int64"
      ]
     },
     "execution_count": 4,
     "metadata": {},
     "output_type": "execute_result"
    }
   ],
   "source": [
    "train.etymd.value_counts()"
   ]
  }
 ],
 "metadata": {
  "kernelspec": {
   "display_name": "base",
   "language": "python",
   "name": "python3"
  },
  "language_info": {
   "codemirror_mode": {
    "name": "ipython",
    "version": 3
   },
   "file_extension": ".py",
   "mimetype": "text/x-python",
   "name": "python",
   "nbconvert_exporter": "python",
   "pygments_lexer": "ipython3",
   "version": "3.11.5"
  }
 },
 "nbformat": 4,
 "nbformat_minor": 2
}
